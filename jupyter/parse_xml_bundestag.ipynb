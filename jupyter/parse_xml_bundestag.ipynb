{
 "cells": [
  {
   "cell_type": "code",
   "execution_count": 14,
   "metadata": {},
   "outputs": [],
   "source": [
    "import xml.etree.ElementTree as ET, sys, urllib.request\n",
    "if 'functions' in sys.modules:\n",
    "    del sys.modules['functions'] # deletes previously imported module so that potential changes can be loaded\n",
    "from functions import *"
   ]
  },
  {
   "cell_type": "code",
   "execution_count": 52,
   "metadata": {},
   "outputs": [],
   "source": [
    "# parse XML\n",
    "def parse_xml(url):\n",
    "    tree = ET.parse(urllib.request.urlopen(url))\n",
    "    root = tree.getroot() # root consists of 4 elements: vorspann, sitzungsverlauf, anlagen, rednerliste\n",
    "    return root"
   ]
  },
  {
   "cell_type": "code",
   "execution_count": 53,
   "metadata": {},
   "outputs": [],
   "source": [
    "# save redner and their ids\n",
    "def get_redner_dict(root, redner):\n",
    "    for r in root.find('rednerliste'):\n",
    "        try:\n",
    "            titel = r.find('name').find('titel').text\n",
    "        except AttributeError:\n",
    "            titel = ''\n",
    "        try:\n",
    "            vorname = r.find('name').find('vorname').text\n",
    "        except AttributeError:\n",
    "            vorname = ''\n",
    "        try:\n",
    "            nachname = r.find('name').find('nachname').text\n",
    "        except AttributeError:\n",
    "            nachname = ''\n",
    "        try:\n",
    "            fraktion = ', ' + r.find('name').find('fraktion').text\n",
    "        except AttributeError:\n",
    "            fraktion = ''\n",
    "        redner[r.attrib['id']] = cleanup(' '.join([titel, vorname, nachname+fraktion]).strip())\n",
    "    return redner"
   ]
  },
  {
   "cell_type": "code",
   "execution_count": 86,
   "metadata": {},
   "outputs": [],
   "source": [
    "# extract text from 'reden' and save them with their redner_id in a dict\n",
    "def get_reden(root, d):\n",
    "#     for i in range(len(root.find('sitzungsverlauf'))):\n",
    "    for r in root.find('sitzungsverlauf'):\n",
    "        reden = r.findall('rede')\n",
    "        if len(reden) == 0:\n",
    "            continue\n",
    "#         reden = root[1][i].findall('rede')\n",
    "        try:\n",
    "            redner_ids = [[p.find('redner') for p in rede.findall('p') if p.attrib['klasse'] == 'redner'][0].attrib['id'] for rede in reden]\n",
    "            texte = [' '.join([p.text for p in rede.findall('p') if not p.attrib['klasse'] == 'redner']) for rede in reden]\n",
    "        except KeyError: # some xml files contain empty elements with no 'klasse'. skip them.\n",
    "            continue\n",
    "        for redner_id, text in zip(redner_ids, texte):\n",
    "            text = cleanup(text)\n",
    "            if not redner_id in d.keys():\n",
    "                d[redner_id] = [text]\n",
    "            else:\n",
    "                d[redner_id].append(text)\n",
    "    return d"
   ]
  },
  {
   "cell_type": "code",
   "execution_count": 88,
   "metadata": {},
   "outputs": [],
   "source": [
    "# parse XML files\n",
    "urls = ['https://www.bundestag.de/resource/blob/664948/fd846b015600a686747b1a23ba902d0f/19121-data.xml',\n",
    "        'https://www.bundestag.de/resource/blob/664710/4a1a6d42e4ce3aadd9f9d1d170577512/19120-data.xml',\n",
    "        'https://www.bundestag.de/resource/blob/663968/2f0583192968310c0b6b44ecf4009a7d/19119-data.xml',\n",
    "        'https://www.bundestag.de/resource/blob/663594/6d6c892cb2f2bb8a96b21223c64e04e3/19118-data.xml',\n",
    "        'https://www.bundestag.de/resource/blob/663116/9d19894a5406d322d2edd9e8875ba017/19117-data.xml']\n",
    "redner, reden = {}, {}\n",
    "for url in urls:\n",
    "    root = parse_xml(url)\n",
    "    redner = get_redner_dict(root, redner)\n",
    "    reden = get_reden(root, reden)"
   ]
  }
 ],
 "metadata": {
  "kernelspec": {
   "display_name": "Python 3",
   "language": "python",
   "name": "python3"
  },
  "language_info": {
   "codemirror_mode": {
    "name": "ipython",
    "version": 3
   },
   "file_extension": ".py",
   "mimetype": "text/x-python",
   "name": "python",
   "nbconvert_exporter": "python",
   "pygments_lexer": "ipython3",
   "version": "3.7.3"
  }
 },
 "nbformat": 4,
 "nbformat_minor": 4
}
