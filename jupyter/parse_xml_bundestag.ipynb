{
 "cells": [
  {
   "cell_type": "code",
   "execution_count": 136,
   "metadata": {},
   "outputs": [],
   "source": [
    "import xml.etree.ElementTree as ET, sys, urllib.request, json\n",
    "if 'functions' in sys.modules:\n",
    "    del sys.modules['functions'] # deletes previously imported module so that potential changes can be loaded\n",
    "from functions import *"
   ]
  },
  {
   "cell_type": "code",
   "execution_count": 74,
   "metadata": {},
   "outputs": [],
   "source": [
    "# The XML url's for every single protocol are grouped in packages of 5 whose url's are put in a dataloader. get the dataloader url.\n",
    "# There are three data-loader-urls. take the first one for the current Wahlperiode.\n",
    "url = 'https://www.bundestag.de/services/opendata'\n",
    "htmlString = get(url).text\n",
    "soup = BeautifulSoup(htmlString, 'lxml')\n",
    "dataloader_url = [x.attrs['data-dataloader-url'] for x in soup.find_all('div', {'class':'bt-module-row-dokumente'})][0]"
   ]
  },
  {
   "cell_type": "code",
   "execution_count": 70,
   "metadata": {},
   "outputs": [
    {
     "name": "stdout",
     "output_type": "stream",
     "text": [
      "CPU times: user 468 ms, sys: 16 ms, total: 484 ms\n",
      "Wall time: 1min 20s\n"
     ]
    }
   ],
   "source": [
    "%%time\n",
    "# Get the single XML url's (runtime ~ 1.5 min)\n",
    "xml_urls = []\n",
    "home = 'https://www.bundestag.de'\n",
    "i = 0\n",
    "while True:\n",
    "    url_package_i = home + data_loader_url + '?offset=%i' %i\n",
    "    htmlString = get(url_package_i).text\n",
    "    soup = BeautifulSoup(htmlString, 'lxml')\n",
    "    xml_urls_i = [home + x.attrs['href'] for x in soup.find_all('a', {'class':'bt-link-dokument'})]\n",
    "    if len(xml_urls_i) == 0:\n",
    "        break\n",
    "    xml_urls += xml_urls_i\n",
    "    i += 5"
   ]
  },
  {
   "cell_type": "code",
   "execution_count": 137,
   "metadata": {},
   "outputs": [
    {
     "name": "stdout",
     "output_type": "stream",
     "text": [
      "CPU times: user 6.63 s, sys: 316 ms, total: 6.94 s\n",
      "Wall time: 5min 36s\n"
     ]
    }
   ],
   "source": [
    "%%time\n",
    "# parse XML files (runtime ~ 6 min)\n",
    "redner, reden = {}, {}\n",
    "for url in xml_urls:\n",
    "    root = parse_xml(url)\n",
    "    redner = get_redner_dict(root, redner)\n",
    "    reden = get_reden(root, reden)"
   ]
  },
  {
   "cell_type": "code",
   "execution_count": 153,
   "metadata": {},
   "outputs": [],
   "source": [
    "# save dicts\n",
    "with open('../data/bundestag/redner.json', 'w') as f:\n",
    "    json.dump(redner, f)\n",
    "with open('../data/bundestag/reden.json', 'w') as f:\n",
    "    json.dump(reden, f)"
   ]
  }
 ],
 "metadata": {
  "kernelspec": {
   "display_name": "Python 3",
   "language": "python",
   "name": "python3"
  },
  "language_info": {
   "codemirror_mode": {
    "name": "ipython",
    "version": 3
   },
   "file_extension": ".py",
   "mimetype": "text/x-python",
   "name": "python",
   "nbconvert_exporter": "python",
   "pygments_lexer": "ipython3",
   "version": "3.7.3"
  }
 },
 "nbformat": 4,
 "nbformat_minor": 4
}
