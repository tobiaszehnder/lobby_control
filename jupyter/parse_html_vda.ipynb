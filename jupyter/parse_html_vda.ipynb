{
 "cells": [
  {
   "cell_type": "markdown",
   "metadata": {},
   "source": [
    "### BeautifulSoup Tutorial: http://www.tulane.edu/~howard/NLP/webpages.html"
   ]
  },
  {
   "cell_type": "code",
   "execution_count": 11,
   "metadata": {},
   "outputs": [],
   "source": [
    "import sys\n",
    "from requests import get\n",
    "from bs4 import BeautifulSoup\n",
    "if 'functions' in sys.modules:\n",
    "    del sys.modules['functions'] # deletes previously imported module so that potential changes can be loaded\n",
    "from functions import *"
   ]
  },
  {
   "cell_type": "code",
   "execution_count": 12,
   "metadata": {},
   "outputs": [],
   "source": [
    "# get vda pressetexte\n",
    "urls = ['https://www.vda.de/de/presse/Pressemeldungen.html',\n",
    "        'https://www.vda.de/de/themen/automobilindustrie-und-maerkte.html',\n",
    "        'https://www.vda.de/de/themen/wirtschaftspolitik-und-infrastruktur.html',\n",
    "        'https://www.vda.de/de/themen/umwelt-und-klima.html',\n",
    "        'https://www.vda.de/de/themen/innovation-und-technik.html',\n",
    "        'https://www.vda.de/de/themen/sicherheit-und-standards.html']\n",
    "texts = [parse_vda_texts(url) for url in urls]"
   ]
  }
 ],
 "metadata": {
  "kernelspec": {
   "display_name": "Python 3",
   "language": "python",
   "name": "python3"
  },
  "language_info": {
   "codemirror_mode": {
    "name": "ipython",
    "version": 3
   },
   "file_extension": ".py",
   "mimetype": "text/x-python",
   "name": "python",
   "nbconvert_exporter": "python",
   "pygments_lexer": "ipython3",
   "version": "3.7.3"
  }
 },
 "nbformat": 4,
 "nbformat_minor": 4
}
